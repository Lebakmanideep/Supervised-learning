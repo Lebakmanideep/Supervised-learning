{
 "cells": [
  {
   "cell_type": "code",
   "execution_count": 2,
   "id": "f765d792",
   "metadata": {},
   "outputs": [],
   "source": [
    "import pandas as pd\n",
    "import numpy as np\n",
    "from sklearn.feature_extraction.text import CountVectorizer, TfidfTransformer"
   ]
  },
  {
   "cell_type": "code",
   "execution_count": 3,
   "id": "a67ad814",
   "metadata": {},
   "outputs": [
    {
     "data": {
      "text/html": [
       "<div>\n",
       "<style scoped>\n",
       "    .dataframe tbody tr th:only-of-type {\n",
       "        vertical-align: middle;\n",
       "    }\n",
       "\n",
       "    .dataframe tbody tr th {\n",
       "        vertical-align: top;\n",
       "    }\n",
       "\n",
       "    .dataframe thead th {\n",
       "        text-align: right;\n",
       "    }\n",
       "</style>\n",
       "<table border=\"1\" class=\"dataframe\">\n",
       "  <thead>\n",
       "    <tr style=\"text-align: right;\">\n",
       "      <th></th>\n",
       "      <th>type</th>\n",
       "      <th>text</th>\n",
       "    </tr>\n",
       "  </thead>\n",
       "  <tbody>\n",
       "    <tr>\n",
       "      <th>0</th>\n",
       "      <td>ham</td>\n",
       "      <td>Hope you are having a good week. Just checking in</td>\n",
       "    </tr>\n",
       "    <tr>\n",
       "      <th>1</th>\n",
       "      <td>ham</td>\n",
       "      <td>K..give back my thanks.</td>\n",
       "    </tr>\n",
       "    <tr>\n",
       "      <th>2</th>\n",
       "      <td>ham</td>\n",
       "      <td>Am also doing in cbe only. But have to pay.</td>\n",
       "    </tr>\n",
       "    <tr>\n",
       "      <th>3</th>\n",
       "      <td>spam</td>\n",
       "      <td>complimentary 4 STAR Ibiza Holiday or å£10,000...</td>\n",
       "    </tr>\n",
       "    <tr>\n",
       "      <th>4</th>\n",
       "      <td>spam</td>\n",
       "      <td>okmail: Dear Dave this is your final notice to...</td>\n",
       "    </tr>\n",
       "    <tr>\n",
       "      <th>...</th>\n",
       "      <td>...</td>\n",
       "      <td>...</td>\n",
       "    </tr>\n",
       "    <tr>\n",
       "      <th>5554</th>\n",
       "      <td>ham</td>\n",
       "      <td>You are a great role model. You are giving so ...</td>\n",
       "    </tr>\n",
       "    <tr>\n",
       "      <th>5555</th>\n",
       "      <td>ham</td>\n",
       "      <td>Awesome, I remember the last time we got someb...</td>\n",
       "    </tr>\n",
       "    <tr>\n",
       "      <th>5556</th>\n",
       "      <td>spam</td>\n",
       "      <td>If you don't, your prize will go to another cu...</td>\n",
       "    </tr>\n",
       "    <tr>\n",
       "      <th>5557</th>\n",
       "      <td>spam</td>\n",
       "      <td>SMS. ac JSco: Energy is high, but u may not kn...</td>\n",
       "    </tr>\n",
       "    <tr>\n",
       "      <th>5558</th>\n",
       "      <td>ham</td>\n",
       "      <td>Shall call now dear having food</td>\n",
       "    </tr>\n",
       "  </tbody>\n",
       "</table>\n",
       "<p>5559 rows × 2 columns</p>\n",
       "</div>"
      ],
      "text/plain": [
       "      type                                               text\n",
       "0      ham  Hope you are having a good week. Just checking in\n",
       "1      ham                            K..give back my thanks.\n",
       "2      ham        Am also doing in cbe only. But have to pay.\n",
       "3     spam  complimentary 4 STAR Ibiza Holiday or å£10,000...\n",
       "4     spam  okmail: Dear Dave this is your final notice to...\n",
       "...    ...                                                ...\n",
       "5554   ham  You are a great role model. You are giving so ...\n",
       "5555   ham  Awesome, I remember the last time we got someb...\n",
       "5556  spam  If you don't, your prize will go to another cu...\n",
       "5557  spam  SMS. ac JSco: Energy is high, but u may not kn...\n",
       "5558   ham                    Shall call now dear having food\n",
       "\n",
       "[5559 rows x 2 columns]"
      ]
     },
     "execution_count": 3,
     "metadata": {},
     "output_type": "execute_result"
    }
   ],
   "source": [
    "email_data = pd.read_csv(\"sms_raw_NB.csv\", encoding ='ISO-8859-1')\n",
    "email_data"
   ]
  },
  {
   "cell_type": "code",
   "execution_count": 4,
   "id": "296703d0",
   "metadata": {},
   "outputs": [],
   "source": [
    "# cleaning the data\n",
    "import re\n",
    "stopwords = []\n",
    "\n"
   ]
  },
  {
   "cell_type": "code",
   "execution_count": 5,
   "id": "602694a8",
   "metadata": {},
   "outputs": [],
   "source": [
    "def cleaning_text(i):\n",
    "    i = re.sub(\"[^A-Za-z\" \"]+\", \" \",i).lower()\n",
    "    i = re.sub(\"[0-9\" \"]+\", \" \",i)\n",
    "\n",
    "    w = []\n",
    "    for word in i.split():\n",
    "        if len(word)>=3:\n",
    "            w.append(word)\n",
    "    return(''.join(w))"
   ]
  },
  {
   "cell_type": "code",
   "execution_count": 6,
   "id": "0fa0d87f",
   "metadata": {},
   "outputs": [
    {
     "data": {
      "text/plain": [
       "'howareyougood'"
      ]
     },
     "execution_count": 6,
     "metadata": {},
     "output_type": "execute_result"
    }
   ],
   "source": [
    "# testing above function with sample text => removes punctuations, numbers\n",
    "cleaning_text(\"Hope you are having a good week. Just checking in\")\n",
    "cleaning_text(\"hope i can understand your feelings 123121. 123 hi how .. are you?\")\n",
    "cleaning_text(\"Hi how are you, I am good\")"
   ]
  },
  {
   "cell_type": "code",
   "execution_count": 7,
   "id": "e81b425e",
   "metadata": {},
   "outputs": [
    {
     "data": {
      "text/plain": [
       "['Hi', 'how', 'are', 'you,', 'I', 'am', 'good']"
      ]
     },
     "execution_count": 7,
     "metadata": {},
     "output_type": "execute_result"
    }
   ],
   "source": [
    "def split_into_words(i):\n",
    "    return [word for word in i.split(\" \")]\n",
    "split_into_words(\"Hi how are you, I am good\")"
   ]
  },
  {
   "cell_type": "code",
   "execution_count": 8,
   "id": "a0887e61",
   "metadata": {},
   "outputs": [],
   "source": [
    "email_data.text = email_data.text.apply(cleaning_text)"
   ]
  },
  {
   "cell_type": "code",
   "execution_count": 9,
   "id": "c9a90797",
   "metadata": {},
   "outputs": [],
   "source": [
    "# removing wmpty rows text data\n",
    "\n",
    "email_data = email_data.loc[email_data.text != \" \",:]\n",
    "\n"
   ]
  },
  {
   "cell_type": "code",
   "execution_count": null,
   "id": "717cd04b",
   "metadata": {},
   "outputs": [],
   "source": []
  },
  {
   "cell_type": "markdown",
   "id": "dd771c44",
   "metadata": {},
   "source": [
    "# countvectorizer\n",
    "\n",
    "# convert a collection of text documents to a matrix of token counts\n",
    "\n",
    "# split the data into train and test"
   ]
  },
  {
   "cell_type": "code",
   "execution_count": 10,
   "id": "70fc24a9",
   "metadata": {},
   "outputs": [],
   "source": [
    "from sklearn.model_selection import train_test_split"
   ]
  },
  {
   "cell_type": "code",
   "execution_count": 43,
   "id": "2f4704c9",
   "metadata": {},
   "outputs": [
    {
     "data": {
      "text/plain": [
       "Index(['type', 'text'], dtype='object')"
      ]
     },
     "execution_count": 43,
     "metadata": {},
     "output_type": "execute_result"
    }
   ],
   "source": [
    "email_train, email_test = train_test_split(email_data, test_size = 0.2)\n",
    "email_train.columns"
   ]
  },
  {
   "cell_type": "code",
   "execution_count": 12,
   "id": "8323e5cc",
   "metadata": {},
   "outputs": [],
   "source": [
    "# creating a matrix of tokens count for the entire text data\n",
    "def split_words(i):\n",
    "    return [word for word in i.split(\" \")]"
   ]
  },
  {
   "cell_type": "code",
   "execution_count": 13,
   "id": "7e383cb1",
   "metadata": {},
   "outputs": [],
   "source": [
    "# Defining the preparation of email texts into word count matrix format - Bag of Words\n",
    "emails_bow = CountVectorizer(analyzer = split_words).fit(email_data.text)"
   ]
  },
  {
   "cell_type": "code",
   "execution_count": 14,
   "id": "08a9fe0f",
   "metadata": {},
   "outputs": [
    {
     "data": {
      "text/plain": [
       "CountVectorizer(analyzer=<function split_words at 0x000002002486AA60>)"
      ]
     },
     "execution_count": 14,
     "metadata": {},
     "output_type": "execute_result"
    }
   ],
   "source": [
    "emails_bow"
   ]
  },
  {
   "cell_type": "code",
   "execution_count": 15,
   "id": "faea9b91",
   "metadata": {},
   "outputs": [],
   "source": [
    "# defining BOW for all emails\n",
    "\n",
    "all_emails_data = emails_bow.transform(email_data.text)"
   ]
  },
  {
   "cell_type": "code",
   "execution_count": 16,
   "id": "a121df85",
   "metadata": {},
   "outputs": [
    {
     "data": {
      "text/plain": [
       "<5559x5040 sparse matrix of type '<class 'numpy.int64'>'\n",
       "\twith 5559 stored elements in Compressed Sparse Row format>"
      ]
     },
     "execution_count": 16,
     "metadata": {},
     "output_type": "execute_result"
    }
   ],
   "source": [
    "all_emails_data"
   ]
  },
  {
   "cell_type": "code",
   "execution_count": 17,
   "id": "39fbc215",
   "metadata": {},
   "outputs": [],
   "source": [
    "# creating BOW for train and test data\n",
    "train_bow = emails_bow.transform(email_train.text)"
   ]
  },
  {
   "cell_type": "code",
   "execution_count": 18,
   "id": "983e719e",
   "metadata": {},
   "outputs": [],
   "source": [
    "test_bow = emails_bow.transform(email_test.text)"
   ]
  },
  {
   "cell_type": "code",
   "execution_count": 19,
   "id": "f1e0fb17",
   "metadata": {},
   "outputs": [],
   "source": [
    "# Learning Term weighting and normalizing on entire emails\n",
    "tfidf_transformer  = TfidfTransformer().fit(all_emails_data)\n"
   ]
  },
  {
   "cell_type": "code",
   "execution_count": 20,
   "id": "4d4364e9",
   "metadata": {},
   "outputs": [
    {
     "data": {
      "text/plain": [
       "(4447, 5040)"
      ]
     },
     "execution_count": 20,
     "metadata": {},
     "output_type": "execute_result"
    }
   ],
   "source": [
    "train_tfidf = tfidf_transformer.transform(train_bow)\n",
    "train_tfidf.shape"
   ]
  },
  {
   "cell_type": "code",
   "execution_count": 21,
   "id": "db4d01c3",
   "metadata": {},
   "outputs": [
    {
     "data": {
      "text/plain": [
       "(1112, 5040)"
      ]
     },
     "execution_count": 21,
     "metadata": {},
     "output_type": "execute_result"
    }
   ],
   "source": [
    "test_tfidf = tfidf_transformer.transform(test_bow)\n",
    "test_tfidf.shape"
   ]
  },
  {
   "cell_type": "code",
   "execution_count": 22,
   "id": "de6c0839",
   "metadata": {},
   "outputs": [],
   "source": [
    "from sklearn.naive_bayes import MultinomialNB as MB"
   ]
  },
  {
   "cell_type": "code",
   "execution_count": 23,
   "id": "0d984234",
   "metadata": {},
   "outputs": [],
   "source": [
    "classifier_MB = MB()"
   ]
  },
  {
   "cell_type": "code",
   "execution_count": 24,
   "id": "f2491daf",
   "metadata": {},
   "outputs": [
    {
     "data": {
      "text/plain": [
       "2632     ham\n",
       "3181     ham\n",
       "427      ham\n",
       "5209     ham\n",
       "3237     ham\n",
       "        ... \n",
       "1692     ham\n",
       "4920     ham\n",
       "4055    spam\n",
       "2751     ham\n",
       "5317     ham\n",
       "Name: type, Length: 4447, dtype: object"
      ]
     },
     "execution_count": 24,
     "metadata": {},
     "output_type": "execute_result"
    }
   ],
   "source": [
    "classifier_MB.fit(train_tfidf, email_train.type)\n",
    "email_train.type"
   ]
  },
  {
   "cell_type": "code",
   "execution_count": 25,
   "id": "8dd8562e",
   "metadata": {},
   "outputs": [
    {
     "data": {
      "text/plain": [
       "array(['ham', 'ham', 'ham', ..., 'ham', 'ham', 'ham'], dtype='<U4')"
      ]
     },
     "execution_count": 25,
     "metadata": {},
     "output_type": "execute_result"
    }
   ],
   "source": [
    "# Evaluation on Test Data\n",
    "test_pred_m = classifier_MB.predict(test_tfidf) \n",
    "test_pred_m"
   ]
  },
  {
   "cell_type": "code",
   "execution_count": 26,
   "id": "e13ece93",
   "metadata": {},
   "outputs": [],
   "source": [
    "accuracy_test = np.mean(test_pred_m == email_test.type)"
   ]
  },
  {
   "cell_type": "code",
   "execution_count": 27,
   "id": "786ca065",
   "metadata": {},
   "outputs": [
    {
     "data": {
      "text/plain": [
       "0.8615107913669064"
      ]
     },
     "execution_count": 27,
     "metadata": {},
     "output_type": "execute_result"
    }
   ],
   "source": [
    "accuracy_test"
   ]
  },
  {
   "cell_type": "code",
   "execution_count": 28,
   "id": "00348b85",
   "metadata": {},
   "outputs": [
    {
     "data": {
      "text/plain": [
       "0.8615107913669064"
      ]
     },
     "execution_count": 28,
     "metadata": {},
     "output_type": "execute_result"
    }
   ],
   "source": [
    "from sklearn.metrics import accuracy_score\n",
    "accuracy_score(test_pred_m, email_test.type) \n",
    "\n"
   ]
  },
  {
   "cell_type": "code",
   "execution_count": 29,
   "id": "8ca42982",
   "metadata": {},
   "outputs": [
    {
     "data": {
      "text/html": [
       "<div>\n",
       "<style scoped>\n",
       "    .dataframe tbody tr th:only-of-type {\n",
       "        vertical-align: middle;\n",
       "    }\n",
       "\n",
       "    .dataframe tbody tr th {\n",
       "        vertical-align: top;\n",
       "    }\n",
       "\n",
       "    .dataframe thead th {\n",
       "        text-align: right;\n",
       "    }\n",
       "</style>\n",
       "<table border=\"1\" class=\"dataframe\">\n",
       "  <thead>\n",
       "    <tr style=\"text-align: right;\">\n",
       "      <th>type</th>\n",
       "      <th>ham</th>\n",
       "      <th>spam</th>\n",
       "    </tr>\n",
       "    <tr>\n",
       "      <th>row_0</th>\n",
       "      <th></th>\n",
       "      <th></th>\n",
       "    </tr>\n",
       "  </thead>\n",
       "  <tbody>\n",
       "    <tr>\n",
       "      <th>ham</th>\n",
       "      <td>955</td>\n",
       "      <td>154</td>\n",
       "    </tr>\n",
       "    <tr>\n",
       "      <th>spam</th>\n",
       "      <td>0</td>\n",
       "      <td>3</td>\n",
       "    </tr>\n",
       "  </tbody>\n",
       "</table>\n",
       "</div>"
      ],
      "text/plain": [
       "type   ham  spam\n",
       "row_0           \n",
       "ham    955   154\n",
       "spam     0     3"
      ]
     },
     "execution_count": 29,
     "metadata": {},
     "output_type": "execute_result"
    }
   ],
   "source": [
    "pd.crosstab(test_pred_m, email_test.type)\n"
   ]
  },
  {
   "cell_type": "code",
   "execution_count": 30,
   "id": "c0977764",
   "metadata": {},
   "outputs": [],
   "source": [
    "train_pred = classifier_MB.predict(train_tfidf)"
   ]
  },
  {
   "cell_type": "code",
   "execution_count": 31,
   "id": "1effac23",
   "metadata": {},
   "outputs": [
    {
     "data": {
      "text/plain": [
       "array(['ham', 'ham', 'ham', ..., 'ham', 'ham', 'ham'], dtype='<U4')"
      ]
     },
     "execution_count": 31,
     "metadata": {},
     "output_type": "execute_result"
    }
   ],
   "source": [
    "train_pred"
   ]
  },
  {
   "cell_type": "code",
   "execution_count": 32,
   "id": "6ca104c4",
   "metadata": {},
   "outputs": [],
   "source": [
    "accuracy_train = np.mean(train_pred == email_train.type)"
   ]
  },
  {
   "cell_type": "code",
   "execution_count": 33,
   "id": "1ccd4e22",
   "metadata": {},
   "outputs": [
    {
     "data": {
      "text/plain": [
       "0.8727231841691028"
      ]
     },
     "execution_count": 33,
     "metadata": {},
     "output_type": "execute_result"
    }
   ],
   "source": [
    "accuracy_train"
   ]
  },
  {
   "cell_type": "code",
   "execution_count": 34,
   "id": "a88d02e3",
   "metadata": {},
   "outputs": [],
   "source": [
    "from sklearn.metrics import accuracy_score"
   ]
  },
  {
   "cell_type": "code",
   "execution_count": 35,
   "id": "bb61a616",
   "metadata": {},
   "outputs": [
    {
     "data": {
      "text/plain": [
       "0.8727231841691028"
      ]
     },
     "execution_count": 35,
     "metadata": {},
     "output_type": "execute_result"
    }
   ],
   "source": [
    "accuracy_score(train_pred, email_train.type)"
   ]
  },
  {
   "cell_type": "code",
   "execution_count": 36,
   "id": "c73bf034",
   "metadata": {},
   "outputs": [
    {
     "data": {
      "text/html": [
       "<div>\n",
       "<style scoped>\n",
       "    .dataframe tbody tr th:only-of-type {\n",
       "        vertical-align: middle;\n",
       "    }\n",
       "\n",
       "    .dataframe tbody tr th {\n",
       "        vertical-align: top;\n",
       "    }\n",
       "\n",
       "    .dataframe thead th {\n",
       "        text-align: right;\n",
       "    }\n",
       "</style>\n",
       "<table border=\"1\" class=\"dataframe\">\n",
       "  <thead>\n",
       "    <tr style=\"text-align: right;\">\n",
       "      <th>type</th>\n",
       "      <th>ham</th>\n",
       "      <th>spam</th>\n",
       "    </tr>\n",
       "    <tr>\n",
       "      <th>row_0</th>\n",
       "      <th></th>\n",
       "      <th></th>\n",
       "    </tr>\n",
       "  </thead>\n",
       "  <tbody>\n",
       "    <tr>\n",
       "      <th>ham</th>\n",
       "      <td>3857</td>\n",
       "      <td>566</td>\n",
       "    </tr>\n",
       "    <tr>\n",
       "      <th>spam</th>\n",
       "      <td>0</td>\n",
       "      <td>24</td>\n",
       "    </tr>\n",
       "  </tbody>\n",
       "</table>\n",
       "</div>"
      ],
      "text/plain": [
       "type    ham  spam\n",
       "row_0            \n",
       "ham    3857   566\n",
       "spam      0    24"
      ]
     },
     "execution_count": 36,
     "metadata": {},
     "output_type": "execute_result"
    }
   ],
   "source": [
    "pd.crosstab(train_pred, email_train.type)"
   ]
  },
  {
   "cell_type": "code",
   "execution_count": 37,
   "id": "ca54f8f4",
   "metadata": {},
   "outputs": [],
   "source": [
    "# Multinomial Naive Bayes changing default alpha for laplace smoothing\n",
    "# if alpha = 0 then no smoothing is applied and the default alpha parameter is 1\n",
    "# the smoothing process mainly solves the emergence of zero probability problem in the dataset.\n",
    "\n"
   ]
  },
  {
   "cell_type": "code",
   "execution_count": 38,
   "id": "d2db7a2a",
   "metadata": {},
   "outputs": [],
   "source": [
    "from sklearn.naive_bayes import MultinomialNB as MB\n",
    "classifier_mb  = MB(alpha = .2)"
   ]
  },
  {
   "cell_type": "code",
   "execution_count": 39,
   "id": "c786e7c1",
   "metadata": {},
   "outputs": [
    {
     "data": {
      "text/plain": [
       "0.914568345323741"
      ]
     },
     "execution_count": 39,
     "metadata": {},
     "output_type": "execute_result"
    }
   ],
   "source": [
    "classifier_mb.fit(train_tfidf, email_train.type)\n",
    "test_pred_lap = classifier_mb.predict(test_tfidf)\n",
    "accuracy_score(test_pred_lap, email_test.type)\n"
   ]
  },
  {
   "cell_type": "code",
   "execution_count": 40,
   "id": "77a8983b",
   "metadata": {},
   "outputs": [
    {
     "data": {
      "text/html": [
       "<div>\n",
       "<style scoped>\n",
       "    .dataframe tbody tr th:only-of-type {\n",
       "        vertical-align: middle;\n",
       "    }\n",
       "\n",
       "    .dataframe tbody tr th {\n",
       "        vertical-align: top;\n",
       "    }\n",
       "\n",
       "    .dataframe thead th {\n",
       "        text-align: right;\n",
       "    }\n",
       "</style>\n",
       "<table border=\"1\" class=\"dataframe\">\n",
       "  <thead>\n",
       "    <tr style=\"text-align: right;\">\n",
       "      <th>type</th>\n",
       "      <th>ham</th>\n",
       "      <th>spam</th>\n",
       "    </tr>\n",
       "    <tr>\n",
       "      <th>row_0</th>\n",
       "      <th></th>\n",
       "      <th></th>\n",
       "    </tr>\n",
       "  </thead>\n",
       "  <tbody>\n",
       "    <tr>\n",
       "      <th>ham</th>\n",
       "      <td>955</td>\n",
       "      <td>95</td>\n",
       "    </tr>\n",
       "    <tr>\n",
       "      <th>spam</th>\n",
       "      <td>0</td>\n",
       "      <td>62</td>\n",
       "    </tr>\n",
       "  </tbody>\n",
       "</table>\n",
       "</div>"
      ],
      "text/plain": [
       "type   ham  spam\n",
       "row_0           \n",
       "ham    955    95\n",
       "spam     0    62"
      ]
     },
     "execution_count": 40,
     "metadata": {},
     "output_type": "execute_result"
    }
   ],
   "source": [
    "pd.crosstab(test_pred_lap, email_test.type)"
   ]
  },
  {
   "cell_type": "code",
   "execution_count": 41,
   "id": "cfd8396d",
   "metadata": {},
   "outputs": [
    {
     "data": {
      "text/plain": [
       "0.9997751293006522"
      ]
     },
     "execution_count": 41,
     "metadata": {},
     "output_type": "execute_result"
    }
   ],
   "source": [
    "classifier_mb.fit(train_tfidf, email_train.type)\n",
    "train_pred_lap = classifier_mb.predict(train_tfidf)\n",
    "accuracy_score(train_pred_lap, email_train.type)"
   ]
  },
  {
   "cell_type": "code",
   "execution_count": 42,
   "id": "15cef061",
   "metadata": {},
   "outputs": [
    {
     "data": {
      "text/html": [
       "<div>\n",
       "<style scoped>\n",
       "    .dataframe tbody tr th:only-of-type {\n",
       "        vertical-align: middle;\n",
       "    }\n",
       "\n",
       "    .dataframe tbody tr th {\n",
       "        vertical-align: top;\n",
       "    }\n",
       "\n",
       "    .dataframe thead th {\n",
       "        text-align: right;\n",
       "    }\n",
       "</style>\n",
       "<table border=\"1\" class=\"dataframe\">\n",
       "  <thead>\n",
       "    <tr style=\"text-align: right;\">\n",
       "      <th>type</th>\n",
       "      <th>ham</th>\n",
       "      <th>spam</th>\n",
       "    </tr>\n",
       "    <tr>\n",
       "      <th>row_0</th>\n",
       "      <th></th>\n",
       "      <th></th>\n",
       "    </tr>\n",
       "  </thead>\n",
       "  <tbody>\n",
       "    <tr>\n",
       "      <th>ham</th>\n",
       "      <td>3857</td>\n",
       "      <td>1</td>\n",
       "    </tr>\n",
       "    <tr>\n",
       "      <th>spam</th>\n",
       "      <td>0</td>\n",
       "      <td>589</td>\n",
       "    </tr>\n",
       "  </tbody>\n",
       "</table>\n",
       "</div>"
      ],
      "text/plain": [
       "type    ham  spam\n",
       "row_0            \n",
       "ham    3857     1\n",
       "spam      0   589"
      ]
     },
     "execution_count": 42,
     "metadata": {},
     "output_type": "execute_result"
    }
   ],
   "source": [
    "pd.crosstab(train_pred_lap, email_train.type)"
   ]
  },
  {
   "cell_type": "code",
   "execution_count": null,
   "id": "b2c91c86",
   "metadata": {},
   "outputs": [],
   "source": []
  },
  {
   "cell_type": "code",
   "execution_count": null,
   "id": "d3c2e24b",
   "metadata": {},
   "outputs": [],
   "source": []
  }
 ],
 "metadata": {
  "kernelspec": {
   "display_name": "Python 3 (ipykernel)",
   "language": "python",
   "name": "python3"
  },
  "language_info": {
   "codemirror_mode": {
    "name": "ipython",
    "version": 3
   },
   "file_extension": ".py",
   "mimetype": "text/x-python",
   "name": "python",
   "nbconvert_exporter": "python",
   "pygments_lexer": "ipython3",
   "version": "3.9.7"
  }
 },
 "nbformat": 4,
 "nbformat_minor": 5
}
